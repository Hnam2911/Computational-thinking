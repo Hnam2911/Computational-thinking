{
  "nbformat": 4,
  "nbformat_minor": 0,
  "metadata": {
    "colab": {
      "provenance": []
    },
    "kernelspec": {
      "name": "python3",
      "display_name": "Python 3"
    },
    "language_info": {
      "name": "python"
    }
  },
  "cells": [
    {
      "cell_type": "code",
      "execution_count": null,
      "metadata": {
        "colab": {
          "base_uri": "https://localhost:8080/"
        },
        "id": "hZEfOtpzx7PD",
        "outputId": "10653532-ed96-499a-a55c-9b073fb1bf1b"
      },
      "outputs": [
        {
          "output_type": "stream",
          "name": "stdout",
          "text": [
            "3\n",
            "4\n",
            "a + b = 7\n",
            "a - b = -1\n",
            "a * b = 12\n",
            "a // b = 0\n",
            "a / b = 0.75\n",
            "a % b = 3\n"
          ]
        }
      ],
      "source": [
        "#W2A3\n",
        "from decimal import Decimal,ROUND_HALF_UP\n",
        "\n",
        "a=int(input())\n",
        "b=int(input())\n",
        "print(\"a + b =\", a + b)\n",
        "print(\"a - b =\", a - b)\n",
        "print(\"a * b =\", a * b)\n",
        "print(\"a // b =\", a // b)\n",
        "t=Decimal(str(a/b))    # float division\n",
        "print(\"a / b =\", Decimal(t).quantize(Decimal(\"0.01\"),rounding=ROUND_HALF_UP))   # floor division\n",
        "print(\"a % b =\", a % b)     # modulus"
      ]
    },
    {
      "cell_type": "code",
      "source": [
        "#W2A4\n",
        "from decimal import Decimal,ROUND_HALF_UP,getcontext\n",
        "getcontext().prec=3\n",
        "lst=list(map(Decimal,input().split()))\n",
        "avg=(sum(lst[0:3])+sum(lst[3:5])*2+lst[-1]*3)/10\n",
        "avg.quantize(Decimal('0.1'),rounding=ROUND_HALF_UP)\n",
        "print(avg)"
      ],
      "metadata": {
        "colab": {
          "base_uri": "https://localhost:8080/"
        },
        "id": "hdWr5DgpUwSt",
        "outputId": "2b2b9b44-b810-4c99-96d4-7cfcf555c20c"
      },
      "execution_count": 2,
      "outputs": [
        {
          "output_type": "stream",
          "name": "stdout",
          "text": [
            "3 4 5 6 7 6 \n",
            "5.6\n"
          ]
        }
      ]
    },
    {
      "cell_type": "code",
      "source": [
        "#W2A5\n",
        "a,b=map(int,input(\"Nhap a va b: \").split())\n",
        "print(f'a ^ b= {a**b}')"
      ],
      "metadata": {
        "colab": {
          "base_uri": "https://localhost:8080/"
        },
        "id": "51EBcl9-Voey",
        "outputId": "782d1c15-0d67-4cfc-92a8-1cf20f009afe"
      },
      "execution_count": 3,
      "outputs": [
        {
          "output_type": "stream",
          "name": "stdout",
          "text": [
            "Nhap a va b: 2 3\n",
            "a ^ b= 8\n"
          ]
        }
      ]
    },
    {
      "cell_type": "code",
      "source": [
        "#W2A6\n",
        "s=input(\"Enter a character: \")\n",
        "print(f\"Ma unicode cua {s} la {ord(s)}\")\n",
        "print(f'Ky tu in hoa cua {s} la {s.upper()}')"
      ],
      "metadata": {
        "colab": {
          "base_uri": "https://localhost:8080/"
        },
        "id": "r4qh1fC54fXy",
        "outputId": "fb40ba49-a5e5-40a9-baf0-53fc4814f5f4"
      },
      "execution_count": null,
      "outputs": [
        {
          "output_type": "stream",
          "name": "stdout",
          "text": [
            "Enter a character: e\n",
            "Ma unicode cua e la 101\n",
            "Ky tu in hoa cua e la E\n"
          ]
        }
      ]
    },
    {
      "cell_type": "code",
      "source": [
        "#W2A7\n",
        "A = ((13 ** 2)*3)+5\n",
        "B = 13**(2*3)+5\n",
        "print(\"A =\" ,A)\n",
        "print(\"B =\" ,B)"
      ],
      "metadata": {
        "colab": {
          "base_uri": "https://localhost:8080/"
        },
        "id": "NMn09lIHWTbR",
        "outputId": "8c1714c3-00b9-4f31-f531-7576dd5c63b4"
      },
      "execution_count": 9,
      "outputs": [
        {
          "output_type": "stream",
          "name": "stdout",
          "text": [
            "A = 512\n",
            "B = 4826814\n"
          ]
        }
      ]
    },
    {
      "cell_type": "code",
      "source": [
        "#W2A8\n",
        "c=float(input(\"Nhap do celcius: \"))\n",
        "print(f'{c} do celcius se la {c*1.8+32:.2f} do fahrenheit')"
      ],
      "metadata": {
        "colab": {
          "base_uri": "https://localhost:8080/"
        },
        "id": "l_MV1zBK5A-D",
        "outputId": "86183e5a-a796-4e21-fb19-8ae9598e6fcc"
      },
      "execution_count": null,
      "outputs": [
        {
          "output_type": "stream",
          "name": "stdout",
          "text": [
            "Nhap do celcius: 45\n",
            "45.0 do trong celcius se la 113.00 do fahrenheit\n"
          ]
        }
      ]
    },
    {
      "cell_type": "code",
      "source": [
        "#W2A9\n",
        "from decimal import Decimal,ROUND_HALF_UP,getcontext\n",
        "getcontext().prec=3\n",
        "price=Decimal(input('Nhap gia chiec dong ho: '))\n",
        "price=(price+10)*Decimal('1.3')*Decimal('1.1')\n",
        "price.quantize(Decimal('0.01'),rounding=ROUND_HALF_UP)\n",
        "print(f'Gia ban dong ho la {price}')"
      ],
      "metadata": {
        "colab": {
          "base_uri": "https://localhost:8080/"
        },
        "id": "gwWNlINr6R9J",
        "outputId": "886cf7c8-2a05-40a8-e775-2c856aaedb79"
      },
      "execution_count": null,
      "outputs": [
        {
          "output_type": "stream",
          "name": "stdout",
          "text": [
            "Nhap gia chiec dong ho: 450\n",
            "Gia ban dong ho la 657.80\n"
          ]
        }
      ]
    },
    {
      "cell_type": "code",
      "source": [
        "#W2A11\n",
        "h,m=map(int,input('Nhap gio va phut: ').split())\n",
        "print(\"Doi sang giay duoc:\",h*3600+m*60)"
      ],
      "metadata": {
        "colab": {
          "base_uri": "https://localhost:8080/"
        },
        "id": "3Dg0EQEm7PA9",
        "outputId": "d0ce13ba-8bd3-494e-a87f-155475f8c92e"
      },
      "execution_count": null,
      "outputs": [
        {
          "output_type": "stream",
          "name": "stdout",
          "text": [
            "Nhap gio va phut: 3 4\n",
            "Doi sang giay duoc: 11040\n"
          ]
        }
      ]
    },
    {
      "cell_type": "code",
      "source": [
        "#W2A12\n",
        "n=int(input())\n",
        "print(6*(n**2))"
      ],
      "metadata": {
        "colab": {
          "base_uri": "https://localhost:8080/"
        },
        "id": "W5bWflz_XYR9",
        "outputId": "7ad49834-aaa9-47fe-faeb-02a2b3e3fbb0"
      },
      "execution_count": 12,
      "outputs": [
        {
          "output_type": "stream",
          "name": "stdout",
          "text": [
            "2\n",
            "24\n"
          ]
        }
      ]
    },
    {
      "cell_type": "code",
      "source": [
        "#W2A13\n",
        "a,b=map(int,input(\"Nhap a va b: \").strip().split())\n",
        "a%=10\n",
        "b%=10\n",
        "print('Chu so hang don vi cua tich a*b la:',(a*b)%10)"
      ],
      "metadata": {
        "colab": {
          "base_uri": "https://localhost:8080/"
        },
        "id": "58FSW7q1795S",
        "outputId": "56fd87e5-635b-47de-d282-3d6848ed4b8c"
      },
      "execution_count": null,
      "outputs": [
        {
          "output_type": "stream",
          "name": "stdout",
          "text": [
            "Nhap a va b: 123 23312\n",
            "Chu so hang don vi cua tich a*b la: 6\n"
          ]
        }
      ]
    },
    {
      "cell_type": "code",
      "source": [
        "#W2A14\n",
        "a,b=map(int,input(\"Nhap a va b: \").strip().split())\n",
        "print('Before:')\n",
        "print(f'a={a}')\n",
        "print(f'b={b}')\n",
        "a,b=b,a\n",
        "print('After:')\n",
        "print(f'a={a}')\n",
        "print(f'b={b}')"
      ],
      "metadata": {
        "colab": {
          "base_uri": "https://localhost:8080/"
        },
        "id": "vPMhIJ1iXAJ5",
        "outputId": "4cfe4136-3604-45ba-c23e-801c0a0ed56d"
      },
      "execution_count": 10,
      "outputs": [
        {
          "output_type": "stream",
          "name": "stdout",
          "text": [
            "Nhap a va b: 2 3\n",
            "Before:\n",
            "a=2\n",
            "b=3\n",
            "After:\n",
            "a=3\n",
            "b=2\n"
          ]
        }
      ]
    },
    {
      "cell_type": "code",
      "source": [
        "#W2A15\n",
        "n=int(input(\"Enter n: \"))\n",
        "edge=1+3*(n-1)\n",
        "i=sum(range(edge+1))\n",
        "j=sum(range(n))\n",
        "print(i+j*3)"
      ],
      "metadata": {
        "id": "0M_yKV5FYHvL"
      },
      "execution_count": null,
      "outputs": []
    }
  ]
}