{
 "cells": [
  {
   "cell_type": "code",
   "execution_count": 1,
   "id": "256bf1d9",
   "metadata": {},
   "outputs": [
    {
     "name": "stdout",
     "output_type": "stream",
     "text": [
      "2353225553\n"
     ]
    }
   ],
   "source": [
    "#Viết một chương trình nhập vào một số nguyên n và in ra các chữ số đảo ngược nhau\n",
    "n=int(input(\"Enter n: \"))\n",
    "print(int(str(n)[::-1]))"
   ]
  },
  {
   "cell_type": "code",
   "execution_count": 10,
   "id": "694caecc",
   "metadata": {},
   "outputs": [
    {
     "name": "stdout",
     "output_type": "stream",
     "text": [
      "234   123\n"
     ]
    }
   ],
   "source": [
    "\"\"\"\n",
    "Hoán đổi hai số không sd biến tạm thời\n",
    "Sử dụng phép toán XOR bitwise để hoán đổi giá trị của hai biến\n",
    "\"\"\"\n",
    "a,b=map(int,input().split())\n",
    "a=a^b\n",
    "b=b^a\n",
    "a=a^b\n",
    "print(a,' ',b)"
   ]
  },
  {
   "cell_type": "code",
   "execution_count": 13,
   "id": "c27a46bd",
   "metadata": {},
   "outputs": [
    {
     "name": "stdout",
     "output_type": "stream",
     "text": [
      "False\n"
     ]
    }
   ],
   "source": [
    "'''\n",
    "Kiểm tra xem một số có phải là lũy thừa của 2 hay không\n",
    "Sử dụng các toán tử bitwise để xác định xem một số có phải là lũy thừa của 2 hay không.\n",
    "Gợi ý: Đối với lũy thừa của 2, n & (n-1) == 0\n",
    "'''\n",
    "n=int(input())\n",
    "print(n&(n-1)==0)"
   ]
  },
  {
   "cell_type": "code",
   "execution_count": 16,
   "id": "f36995ea",
   "metadata": {},
   "outputs": [
    {
     "name": "stdout",
     "output_type": "stream",
     "text": [
      "6129\n"
     ]
    }
   ],
   "source": [
    "# viết chương trình chia một số m cho n, kết quả thu được làm tròn xuống\n",
    "m,n=map(int,input().split())\n",
    "print(m//n)"
   ]
  },
  {
   "cell_type": "code",
   "execution_count": 2,
   "id": "84292921",
   "metadata": {},
   "outputs": [
    {
     "name": "stdout",
     "output_type": "stream",
     "text": [
      "2\n"
     ]
    }
   ],
   "source": [
    "# viết chương trình chia một số m cho n, kết quả thu được làm tròn lên\n",
    "m,n=map(int,input().split())\n",
    "mod=m/n-m//n\n",
    "if mod==0 : print(m//n)\n",
    "else: print(m//n+1)"
   ]
  },
  {
   "cell_type": "code",
   "execution_count": 20,
   "id": "accdfe8e",
   "metadata": {},
   "outputs": [
    {
     "name": "stdout",
     "output_type": "stream",
     "text": [
      "Odd\n"
     ]
    }
   ],
   "source": [
    "'''\n",
    "Nhập vào một số nguyên dương x, bạn hãy kiểm tra xem x là số chẵn hay lẻ. Nếu x là số chẵn, in ra\n",
    "\"Even\". Nếu x là số lẻ, in ra \"Odd'''\n",
    "n=int(input())\n",
    "print(f'{\"Odd\" if n&1 else \"Even\"}')"
   ]
  },
  {
   "cell_type": "code",
   "execution_count": 23,
   "id": "68ee4c14",
   "metadata": {},
   "outputs": [
    {
     "name": "stdout",
     "output_type": "stream",
     "text": [
      "Yes\n"
     ]
    }
   ],
   "source": [
    "'''\n",
    "Nhập vào hai số nguyên a, b. Nếu cả hai số a, b đều âm thì in ra \"Yes\", ngược lại in ra \"No\".'''\n",
    "a=int(input())\n",
    "b=int(input())\n",
    "print(f'{\"Yes\" if a<0 and b<0 else \"No\"}')"
   ]
  },
  {
   "cell_type": "code",
   "execution_count": 24,
   "id": "41a5d84a",
   "metadata": {},
   "outputs": [
    {
     "name": "stdout",
     "output_type": "stream",
     "text": [
      "False\n"
     ]
    }
   ],
   "source": [
    "'''\n",
    "Nhập vào hai chuỗi a, b gồm các chữ cái thường. In ra \"True\" nếu chuỗi a dài hơn chuỗi b. Ngược\n",
    "lại in ra \"False\".'''\n",
    "a=input()\n",
    "b=input()\n",
    "print(len(a)>len(b))"
   ]
  },
  {
   "cell_type": "code",
   "execution_count": 26,
   "id": "70387bc9",
   "metadata": {},
   "outputs": [
    {
     "name": "stdout",
     "output_type": "stream",
     "text": [
      "Yes\n"
     ]
    }
   ],
   "source": [
    "\"\"\"Nhập vào 3 số nguyên dương a, b, c. Kiểm tra xem a, b, c có cấu thành độ dài cạnh của 1 tam giác\n",
    "được không. Nếu a, b, c cấu tạo thành được một tam giác, in ra \"Yes\". Ngược lại in ra \"No\"\n",
    "    \"\"\"\n",
    "a=int(input())\n",
    "b=int(input())\n",
    "c=int(input())\n",
    "print(f'{\"Yes\" if a+b>c and b+c>a and a+c>b else \"No\" }')"
   ]
  },
  {
   "cell_type": "code",
   "execution_count": 27,
   "id": "b8ed12d7",
   "metadata": {},
   "outputs": [
    {
     "name": "stdout",
     "output_type": "stream",
     "text": [
      "34\n"
     ]
    }
   ],
   "source": [
    "#Nhập vào 4 số nguyên. In ra màn hình số nguyên lớn nhất trong 4 số\n",
    "lst=[int(input()) for _ in range(4) ]\n",
    "print(max(lst))"
   ]
  },
  {
   "cell_type": "code",
   "execution_count": null,
   "id": "8c22cd87",
   "metadata": {},
   "outputs": [],
   "source": [
    "'''\n",
    "Nhập vào 3 số nguyên dương a,b,c là độ dài 3 cạnh của một tam giác. Kiểm tra 3 số đã nhập có tạo thành\n",
    "một tam giác hợp lệ hay không. Nếu không in ra \"Không phải tam giác\". Nếu có, phân loại tam giác đó là\n",
    "\"Tam giác đều\", \"Tam giác cân\", hay \"Tam giác thường\"'''\n",
    "a=int(input())\n",
    "b=int(input())\n",
    "c=int(input())\n",
    "if a==b==c:\n",
    "    print(\"Tam giác đều\")\n",
    "elif a==b or b==c or c==a:\n",
    "    print(\"Tam giác cân\")\n",
    "elif a+b>c and b+c>a and a+c>b:\n",
    "    print(\"Tam giác thường\")\n",
    "else:\n",
    "    print(\"Không phải tam giác\")"
   ]
  },
  {
   "cell_type": "code",
   "execution_count": 28,
   "id": "d6907013",
   "metadata": {},
   "outputs": [
    {
     "name": "stdout",
     "output_type": "stream",
     "text": [
      "Yes\n"
     ]
    }
   ],
   "source": [
    "'''\n",
    "Nhập vào một số nguyên dương n là số năm, kiểm tra xem năm đó có phải là năm nhuận hay không. Năm\n",
    "nhuận là năm chia hết cho 4 nhưng không chia hết cho 100, hoặc chia hết cho 400. Nếu là năm nhuận in ra\n",
    "\"Yes\", nếu không in ra \"No\"\n",
    "'''\n",
    "n=int(input())\n",
    "print(f'{\"Yes\" if (n%4==0 and n%100!=0) or n%400==0 else \"No\"}')"
   ]
  },
  {
   "cell_type": "code",
   "execution_count": 29,
   "id": "d394fbd8",
   "metadata": {},
   "outputs": [
    {
     "name": "stdout",
     "output_type": "stream",
     "text": [
      "235000\n"
     ]
    }
   ],
   "source": [
    "'''\n",
    "[Tính tiền điện]\n",
    "Nhập vào số kWh điện tiêu thụ. Tính tiền điện theo các bậc sau:\n",
    "- 0-50 kWh: 1500đ/kWh\n",
    "- 51-100 kWh: 2000đ/kWh\n",
    "- 100 kWh: 3000đ/kWh\n",
    "'''\n",
    "n=int(input())\n",
    "m1=1500*50\n",
    "m2=m1+50*2000\n",
    "if n<=50:\n",
    "    print(1500*n)\n",
    "elif n<=100:\n",
    "    print(m1+(n-50)*2000)\n",
    "else:\n",
    "    print(m2+(n-100)*3000)"
   ]
  },
  {
   "cell_type": "code",
   "execution_count": null,
   "id": "4c996482",
   "metadata": {},
   "outputs": [
    {
     "name": "stdout",
     "output_type": "stream",
     "text": [
      "-0.0\n",
      "-0.00\n"
     ]
    }
   ],
   "source": [
    "'''\n",
    "Nhập vào hai số thực a và b của phương trình ax + b = 0. Tìm và in ra nghiệm của phương trình, kết quả\n",
    "làm tròn đến số thập phân thứ 2. In ra \"Vô nghiệm\" hoặc \"Vô số nghiệm\" trong trường hợp tương ứng.'''\n",
    "a=float(input())\n",
    "b=float(input())\n",
    "if a==0 and b==0:\n",
    "    print(\"Vô số nghiệm\")\n",
    "elif a==0:\n",
    "    print(\"Vô nghiệm\")\n",
    "else:\n",
    "    res=-b/a\n",
    "    print(f'{res:.2f}')"
   ]
  },
  {
   "cell_type": "code",
   "execution_count": 39,
   "id": "4d85c0c5",
   "metadata": {},
   "outputs": [
    {
     "name": "stdout",
     "output_type": "stream",
     "text": [
      "Trung bình\n"
     ]
    }
   ],
   "source": [
    "'''\n",
    "[Xếp loại học lực]\n",
    "Nhập vào điểm trung bình của một học sinh và in ra học lực của học sinh đó. Xếp loại học lực theo quy tắc:\n",
    "- >= 8.0: Giỏi\n",
    "- >= 6.5: Khá\n",
    "- >= 5.0: Trung bình\n",
    "- < 5.0: Yếu\n",
    "'''\n",
    "point=float(input())\n",
    "if point>=8:print(\"Giỏi\")\n",
    "elif point>=6.5: print(\"Khá\")\n",
    "elif point>=5: print(\"Trung bình\")\n",
    "else:print(\"Yếu\")"
   ]
  },
  {
   "cell_type": "code",
   "execution_count": 46,
   "id": "e8f3c50a",
   "metadata": {},
   "outputs": [
    {
     "name": "stdout",
     "output_type": "stream",
     "text": [
      "-9 -10 -10 "
     ]
    }
   ],
   "source": [
    "'''\n",
    "[Rounding]\n",
    "Nhập vào một số thực: in ra kết quả làm tròn lên ,tròn xuống, làm tròn tới số nguyên gần nhất (không được\n",
    "sử dụng hàm sẵn có của python). Các kết quả cách nhau một dấu cách\n",
    "'''\n",
    "n=float(input())\n",
    "res=[]\n",
    "modulo=abs(n)-int(abs(n))\n",
    "if modulo==0:\n",
    "    res=[n]*3\n",
    "else:\n",
    "    res.append(int(n) if n<0 else int(n)+1)\n",
    "    res.append(int(n)-1 if n<0 else int(n))\n",
    "    if modulo>=0.5:\n",
    "        res.append(int(n)-1 if n<0 else int(n)+1)\n",
    "    else:\n",
    "        res.append(int(n) if n<0 else int(n))\n",
    "for i in range(3):print(res[i],end=' ') "
   ]
  }
 ],
 "metadata": {
  "kernelspec": {
   "display_name": "Python 3",
   "language": "python",
   "name": "python3"
  },
  "language_info": {
   "codemirror_mode": {
    "name": "ipython",
    "version": 3
   },
   "file_extension": ".py",
   "mimetype": "text/x-python",
   "name": "python",
   "nbconvert_exporter": "python",
   "pygments_lexer": "ipython3",
   "version": "3.13.7"
  }
 },
 "nbformat": 4,
 "nbformat_minor": 5
}
